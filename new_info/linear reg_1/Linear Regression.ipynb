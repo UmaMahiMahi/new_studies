{
 "cells": [
  {
   "cell_type": "markdown",
   "id": "secure-suggestion",
   "metadata": {},
   "source": [
    "## Linear Regression"
   ]
  },
  {
   "cell_type": "code",
   "execution_count": null,
   "id": "manufactured-steel",
   "metadata": {},
   "outputs": [],
   "source": [
    "MSE >> Cost Function for Linear Regression\n",
    "\n"
   ]
  },
  {
   "cell_type": "markdown",
   "id": "unnecessary-pharmacy",
   "metadata": {},
   "source": [
    "## Gradient Descent Algorithm"
   ]
  },
  {
   "cell_type": "code",
   "execution_count": null,
   "id": "latter-arkansas",
   "metadata": {},
   "outputs": [],
   "source": [
    "Gradient Descent is used to find optimal cost function value\n",
    "\n",
    "1. It uses partial derivatives to find new m and c values\n",
    "2. We will get best m and c values from infinite number of possibilities\n",
    "3. Step size will become smaller and smaller while reaching towards global minima point\n",
    "4. Global Minima >> Best m and c Values(Best MSE)\n"
   ]
  }
 ],
 "metadata": {
  "kernelspec": {
   "display_name": "Python 3",
   "language": "python",
   "name": "python3"
  },
  "language_info": {
   "codemirror_mode": {
    "name": "ipython",
    "version": 3
   },
   "file_extension": ".py",
   "mimetype": "text/x-python",
   "name": "python",
   "nbconvert_exporter": "python",
   "pygments_lexer": "ipython3",
   "version": "3.8.7"
  }
 },
 "nbformat": 4,
 "nbformat_minor": 5
}
